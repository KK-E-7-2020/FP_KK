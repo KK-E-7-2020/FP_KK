{
  "nbformat": 4,
  "nbformat_minor": 0,
  "metadata": {
    "colab": {
      "name": "FP KK",
      "provenance": [],
      "collapsed_sections": []
    },
    "kernelspec": {
      "name": "python3",
      "display_name": "Python 3",
      "language": "python"
    }
  },
  "cells": [
    {
      "cell_type": "markdown",
      "metadata": {
        "id": "7nQv4vj8ULkc"
      },
      "source": [
        "# Load Dataset"
      ]
    },
    {
      "cell_type": "code",
      "execution_count": 63,
      "metadata": {},
      "outputs": [],
      "source": [
        "import pandas as pd\n",
        "import seaborn as sns\n",
        "import os\n",
        "import numpy as np"
      ]
    },
    {
      "cell_type": "code",
      "metadata": {
        "id": "0KdoPUn3SwsX"
      },
      "source": [
        "# melakukan load dari csv ke dalam bentuk pandas dataframe\r\n",
        "df=pd.read_csv('glass.csv')"
      ],
      "execution_count": 64,
      "outputs": []
    },
    {
      "cell_type": "code",
      "metadata": {
        "colab": {
          "base_uri": "https://localhost:8080/",
          "height": 419
        },
        "id": "pzAbIA6IS1vN",
        "outputId": "738037b0-a13e-4dbd-d988-4b202c74fbb1"
      },
      "source": [
        "df"
      ],
      "execution_count": 65,
      "outputs": [
        {
          "output_type": "execute_result",
          "data": {
            "text/plain": [
              "          RI     Na    Mg    Al     Si     K    Ca    Ba   Fe  Type\n",
              "0    1.52101  13.64  4.49  1.10  71.78  0.06  8.75  0.00  0.0     1\n",
              "1    1.51761  13.89  3.60  1.36  72.73  0.48  7.83  0.00  0.0     1\n",
              "2    1.51618  13.53  3.55  1.54  72.99  0.39  7.78  0.00  0.0     1\n",
              "3    1.51766  13.21  3.69  1.29  72.61  0.57  8.22  0.00  0.0     1\n",
              "4    1.51742  13.27  3.62  1.24  73.08  0.55  8.07  0.00  0.0     1\n",
              "..       ...    ...   ...   ...    ...   ...   ...   ...  ...   ...\n",
              "209  1.51623  14.14  0.00  2.88  72.61  0.08  9.18  1.06  0.0     7\n",
              "210  1.51685  14.92  0.00  1.99  73.06  0.00  8.40  1.59  0.0     7\n",
              "211  1.52065  14.36  0.00  2.02  73.42  0.00  8.44  1.64  0.0     7\n",
              "212  1.51651  14.38  0.00  1.94  73.61  0.00  8.48  1.57  0.0     7\n",
              "213  1.51711  14.23  0.00  2.08  73.36  0.00  8.62  1.67  0.0     7\n",
              "\n",
              "[214 rows x 10 columns]"
            ],
            "text/html": "<div>\n<style scoped>\n    .dataframe tbody tr th:only-of-type {\n        vertical-align: middle;\n    }\n\n    .dataframe tbody tr th {\n        vertical-align: top;\n    }\n\n    .dataframe thead th {\n        text-align: right;\n    }\n</style>\n<table border=\"1\" class=\"dataframe\">\n  <thead>\n    <tr style=\"text-align: right;\">\n      <th></th>\n      <th>RI</th>\n      <th>Na</th>\n      <th>Mg</th>\n      <th>Al</th>\n      <th>Si</th>\n      <th>K</th>\n      <th>Ca</th>\n      <th>Ba</th>\n      <th>Fe</th>\n      <th>Type</th>\n    </tr>\n  </thead>\n  <tbody>\n    <tr>\n      <th>0</th>\n      <td>1.52101</td>\n      <td>13.64</td>\n      <td>4.49</td>\n      <td>1.10</td>\n      <td>71.78</td>\n      <td>0.06</td>\n      <td>8.75</td>\n      <td>0.00</td>\n      <td>0.0</td>\n      <td>1</td>\n    </tr>\n    <tr>\n      <th>1</th>\n      <td>1.51761</td>\n      <td>13.89</td>\n      <td>3.60</td>\n      <td>1.36</td>\n      <td>72.73</td>\n      <td>0.48</td>\n      <td>7.83</td>\n      <td>0.00</td>\n      <td>0.0</td>\n      <td>1</td>\n    </tr>\n    <tr>\n      <th>2</th>\n      <td>1.51618</td>\n      <td>13.53</td>\n      <td>3.55</td>\n      <td>1.54</td>\n      <td>72.99</td>\n      <td>0.39</td>\n      <td>7.78</td>\n      <td>0.00</td>\n      <td>0.0</td>\n      <td>1</td>\n    </tr>\n    <tr>\n      <th>3</th>\n      <td>1.51766</td>\n      <td>13.21</td>\n      <td>3.69</td>\n      <td>1.29</td>\n      <td>72.61</td>\n      <td>0.57</td>\n      <td>8.22</td>\n      <td>0.00</td>\n      <td>0.0</td>\n      <td>1</td>\n    </tr>\n    <tr>\n      <th>4</th>\n      <td>1.51742</td>\n      <td>13.27</td>\n      <td>3.62</td>\n      <td>1.24</td>\n      <td>73.08</td>\n      <td>0.55</td>\n      <td>8.07</td>\n      <td>0.00</td>\n      <td>0.0</td>\n      <td>1</td>\n    </tr>\n    <tr>\n      <th>...</th>\n      <td>...</td>\n      <td>...</td>\n      <td>...</td>\n      <td>...</td>\n      <td>...</td>\n      <td>...</td>\n      <td>...</td>\n      <td>...</td>\n      <td>...</td>\n      <td>...</td>\n    </tr>\n    <tr>\n      <th>209</th>\n      <td>1.51623</td>\n      <td>14.14</td>\n      <td>0.00</td>\n      <td>2.88</td>\n      <td>72.61</td>\n      <td>0.08</td>\n      <td>9.18</td>\n      <td>1.06</td>\n      <td>0.0</td>\n      <td>7</td>\n    </tr>\n    <tr>\n      <th>210</th>\n      <td>1.51685</td>\n      <td>14.92</td>\n      <td>0.00</td>\n      <td>1.99</td>\n      <td>73.06</td>\n      <td>0.00</td>\n      <td>8.40</td>\n      <td>1.59</td>\n      <td>0.0</td>\n      <td>7</td>\n    </tr>\n    <tr>\n      <th>211</th>\n      <td>1.52065</td>\n      <td>14.36</td>\n      <td>0.00</td>\n      <td>2.02</td>\n      <td>73.42</td>\n      <td>0.00</td>\n      <td>8.44</td>\n      <td>1.64</td>\n      <td>0.0</td>\n      <td>7</td>\n    </tr>\n    <tr>\n      <th>212</th>\n      <td>1.51651</td>\n      <td>14.38</td>\n      <td>0.00</td>\n      <td>1.94</td>\n      <td>73.61</td>\n      <td>0.00</td>\n      <td>8.48</td>\n      <td>1.57</td>\n      <td>0.0</td>\n      <td>7</td>\n    </tr>\n    <tr>\n      <th>213</th>\n      <td>1.51711</td>\n      <td>14.23</td>\n      <td>0.00</td>\n      <td>2.08</td>\n      <td>73.36</td>\n      <td>0.00</td>\n      <td>8.62</td>\n      <td>1.67</td>\n      <td>0.0</td>\n      <td>7</td>\n    </tr>\n  </tbody>\n</table>\n<p>214 rows × 10 columns</p>\n</div>"
          },
          "metadata": {},
          "execution_count": 65
        }
      ]
    },
    {
      "cell_type": "markdown",
      "metadata": {
        "id": "iwTQ5x-4UOrv"
      },
      "source": [
        "# Data Description dan analisa"
      ]
    },
    {
      "cell_type": "code",
      "metadata": {
        "colab": {
          "base_uri": "https://localhost:8080/"
        },
        "id": "I3d7P7DITtdy",
        "outputId": "204a74e5-a2a5-45a0-f313-42afc72e66f9"
      },
      "source": [
        "# melihat tipe dari tiap kolom di dataframe\r\n",
        "df.info()"
      ],
      "execution_count": 66,
      "outputs": [
        {
          "output_type": "stream",
          "name": "stdout",
          "text": [
            "<class 'pandas.core.frame.DataFrame'>\nRangeIndex: 214 entries, 0 to 213\nData columns (total 10 columns):\n #   Column  Non-Null Count  Dtype  \n---  ------  --------------  -----  \n 0   RI      214 non-null    float64\n 1   Na      214 non-null    float64\n 2   Mg      214 non-null    float64\n 3   Al      214 non-null    float64\n 4   Si      214 non-null    float64\n 5   K       214 non-null    float64\n 6   Ca      214 non-null    float64\n 7   Ba      214 non-null    float64\n 8   Fe      214 non-null    float64\n 9   Type    214 non-null    int64  \ndtypes: float64(9), int64(1)\nmemory usage: 16.8 KB\n"
          ]
        }
      ]
    },
    {
      "cell_type": "code",
      "metadata": {
        "colab": {
          "base_uri": "https://localhost:8080/",
          "height": 317
        },
        "id": "22alFAorUVej",
        "outputId": "4b5f2e0d-f89b-4c6c-c561-615ed95339b2"
      },
      "source": [
        "# melihat persebaran data dari setiap kolom, seperti variance dan std\r\n",
        "df.describe()"
      ],
      "execution_count": 67,
      "outputs": [
        {
          "output_type": "execute_result",
          "data": {
            "text/plain": [
              "               RI          Na          Mg          Al          Si           K  \\\n",
              "count  214.000000  214.000000  214.000000  214.000000  214.000000  214.000000   \n",
              "mean     1.518365   13.407850    2.684533    1.444907   72.650935    0.497056   \n",
              "std      0.003037    0.816604    1.442408    0.499270    0.774546    0.652192   \n",
              "min      1.511150   10.730000    0.000000    0.290000   69.810000    0.000000   \n",
              "25%      1.516523   12.907500    2.115000    1.190000   72.280000    0.122500   \n",
              "50%      1.517680   13.300000    3.480000    1.360000   72.790000    0.555000   \n",
              "75%      1.519157   13.825000    3.600000    1.630000   73.087500    0.610000   \n",
              "max      1.533930   17.380000    4.490000    3.500000   75.410000    6.210000   \n",
              "\n",
              "               Ca          Ba          Fe        Type  \n",
              "count  214.000000  214.000000  214.000000  214.000000  \n",
              "mean     8.956963    0.175047    0.057009    2.780374  \n",
              "std      1.423153    0.497219    0.097439    2.103739  \n",
              "min      5.430000    0.000000    0.000000    1.000000  \n",
              "25%      8.240000    0.000000    0.000000    1.000000  \n",
              "50%      8.600000    0.000000    0.000000    2.000000  \n",
              "75%      9.172500    0.000000    0.100000    3.000000  \n",
              "max     16.190000    3.150000    0.510000    7.000000  "
            ],
            "text/html": "<div>\n<style scoped>\n    .dataframe tbody tr th:only-of-type {\n        vertical-align: middle;\n    }\n\n    .dataframe tbody tr th {\n        vertical-align: top;\n    }\n\n    .dataframe thead th {\n        text-align: right;\n    }\n</style>\n<table border=\"1\" class=\"dataframe\">\n  <thead>\n    <tr style=\"text-align: right;\">\n      <th></th>\n      <th>RI</th>\n      <th>Na</th>\n      <th>Mg</th>\n      <th>Al</th>\n      <th>Si</th>\n      <th>K</th>\n      <th>Ca</th>\n      <th>Ba</th>\n      <th>Fe</th>\n      <th>Type</th>\n    </tr>\n  </thead>\n  <tbody>\n    <tr>\n      <th>count</th>\n      <td>214.000000</td>\n      <td>214.000000</td>\n      <td>214.000000</td>\n      <td>214.000000</td>\n      <td>214.000000</td>\n      <td>214.000000</td>\n      <td>214.000000</td>\n      <td>214.000000</td>\n      <td>214.000000</td>\n      <td>214.000000</td>\n    </tr>\n    <tr>\n      <th>mean</th>\n      <td>1.518365</td>\n      <td>13.407850</td>\n      <td>2.684533</td>\n      <td>1.444907</td>\n      <td>72.650935</td>\n      <td>0.497056</td>\n      <td>8.956963</td>\n      <td>0.175047</td>\n      <td>0.057009</td>\n      <td>2.780374</td>\n    </tr>\n    <tr>\n      <th>std</th>\n      <td>0.003037</td>\n      <td>0.816604</td>\n      <td>1.442408</td>\n      <td>0.499270</td>\n      <td>0.774546</td>\n      <td>0.652192</td>\n      <td>1.423153</td>\n      <td>0.497219</td>\n      <td>0.097439</td>\n      <td>2.103739</td>\n    </tr>\n    <tr>\n      <th>min</th>\n      <td>1.511150</td>\n      <td>10.730000</td>\n      <td>0.000000</td>\n      <td>0.290000</td>\n      <td>69.810000</td>\n      <td>0.000000</td>\n      <td>5.430000</td>\n      <td>0.000000</td>\n      <td>0.000000</td>\n      <td>1.000000</td>\n    </tr>\n    <tr>\n      <th>25%</th>\n      <td>1.516523</td>\n      <td>12.907500</td>\n      <td>2.115000</td>\n      <td>1.190000</td>\n      <td>72.280000</td>\n      <td>0.122500</td>\n      <td>8.240000</td>\n      <td>0.000000</td>\n      <td>0.000000</td>\n      <td>1.000000</td>\n    </tr>\n    <tr>\n      <th>50%</th>\n      <td>1.517680</td>\n      <td>13.300000</td>\n      <td>3.480000</td>\n      <td>1.360000</td>\n      <td>72.790000</td>\n      <td>0.555000</td>\n      <td>8.600000</td>\n      <td>0.000000</td>\n      <td>0.000000</td>\n      <td>2.000000</td>\n    </tr>\n    <tr>\n      <th>75%</th>\n      <td>1.519157</td>\n      <td>13.825000</td>\n      <td>3.600000</td>\n      <td>1.630000</td>\n      <td>73.087500</td>\n      <td>0.610000</td>\n      <td>9.172500</td>\n      <td>0.000000</td>\n      <td>0.100000</td>\n      <td>3.000000</td>\n    </tr>\n    <tr>\n      <th>max</th>\n      <td>1.533930</td>\n      <td>17.380000</td>\n      <td>4.490000</td>\n      <td>3.500000</td>\n      <td>75.410000</td>\n      <td>6.210000</td>\n      <td>16.190000</td>\n      <td>3.150000</td>\n      <td>0.510000</td>\n      <td>7.000000</td>\n    </tr>\n  </tbody>\n</table>\n</div>"
          },
          "metadata": {},
          "execution_count": 67
        }
      ]
    },
    {
      "cell_type": "code",
      "metadata": {
        "colab": {
          "base_uri": "https://localhost:8080/"
        },
        "id": "9NxMGsAyUXjP",
        "outputId": "d0e3b2c0-3de5-4eb0-df0f-2456df425e2e"
      },
      "source": [
        "# melihat jumlah missing value\r\n",
        "df.isna().sum()"
      ],
      "execution_count": 68,
      "outputs": [
        {
          "output_type": "execute_result",
          "data": {
            "text/plain": [
              "RI      0\n",
              "Na      0\n",
              "Mg      0\n",
              "Al      0\n",
              "Si      0\n",
              "K       0\n",
              "Ca      0\n",
              "Ba      0\n",
              "Fe      0\n",
              "Type    0\n",
              "dtype: int64"
            ]
          },
          "metadata": {},
          "execution_count": 68
        }
      ]
    },
    {
      "cell_type": "code",
      "metadata": {
        "colab": {
          "base_uri": "https://localhost:8080/",
          "height": 49
        },
        "id": "mwUyqM74I1YQ",
        "outputId": "cbe8c4c1-9793-4303-8644-1cdeb262350d"
      },
      "source": [
        "# melihat data yang memiliki missing value\r\n",
        "df[df.isna().any(axis=1)]"
      ],
      "execution_count": 69,
      "outputs": [
        {
          "output_type": "execute_result",
          "data": {
            "text/plain": [
              "Empty DataFrame\n",
              "Columns: [RI, Na, Mg, Al, Si, K, Ca, Ba, Fe, Type]\n",
              "Index: []"
            ],
            "text/html": "<div>\n<style scoped>\n    .dataframe tbody tr th:only-of-type {\n        vertical-align: middle;\n    }\n\n    .dataframe tbody tr th {\n        vertical-align: top;\n    }\n\n    .dataframe thead th {\n        text-align: right;\n    }\n</style>\n<table border=\"1\" class=\"dataframe\">\n  <thead>\n    <tr style=\"text-align: right;\">\n      <th></th>\n      <th>RI</th>\n      <th>Na</th>\n      <th>Mg</th>\n      <th>Al</th>\n      <th>Si</th>\n      <th>K</th>\n      <th>Ca</th>\n      <th>Ba</th>\n      <th>Fe</th>\n      <th>Type</th>\n    </tr>\n  </thead>\n  <tbody>\n  </tbody>\n</table>\n</div>"
          },
          "metadata": {},
          "execution_count": 69
        }
      ]
    },
    {
      "cell_type": "code",
      "metadata": {
        "colab": {
          "base_uri": "https://localhost:8080/"
        },
        "id": "iUZapfQ-I3hv",
        "outputId": "808edb7c-8b7b-4f7e-aa8d-a7897abb7371"
      },
      "source": [
        "# cek duplikat\r\n",
        "df.duplicated().any()"
      ],
      "execution_count": 70,
      "outputs": [
        {
          "output_type": "execute_result",
          "data": {
            "text/plain": [
              "True"
            ]
          },
          "metadata": {},
          "execution_count": 70
        }
      ]
    },
    {
      "cell_type": "code",
      "metadata": {
        "colab": {
          "base_uri": "https://localhost:8080/"
        },
        "id": "F8CLJnVxXw3o",
        "outputId": "9c05c57e-4eb7-4a21-b34e-dd143c7da972"
      },
      "source": [
        "# melihat jumlah setiap kelas di kolom target\r\n",
        "df.Type.value_counts()"
      ],
      "execution_count": 71,
      "outputs": [
        {
          "output_type": "execute_result",
          "data": {
            "text/plain": [
              "2    76\n",
              "1    70\n",
              "7    29\n",
              "3    17\n",
              "5    13\n",
              "6     9\n",
              "Name: Type, dtype: int64"
            ]
          },
          "metadata": {},
          "execution_count": 71
        }
      ]
    },
    {
      "cell_type": "code",
      "metadata": {
        "id": "XuD__a1Lj0r6"
      },
      "source": [
        "labels=['building-windows-float-processed','building=windows-nonfloat-processed', 'vehicle-windows-float-processed', 'containers', 'tableware', 'headlamps']"
      ],
      "execution_count": 72,
      "outputs": []
    },
    {
      "cell_type": "code",
      "metadata": {
        "colab": {
          "base_uri": "https://localhost:8080/",
          "height": 962
        },
        "id": "LDS-19P0Ulfc",
        "outputId": "f39f46ec-456e-47b3-f750-04cd73bbc53b"
      },
      "source": [
        "# distribusi data dari satu kolom ke kolom yang lain\n",
        "#sns.pairplot(df,hue=\"Type\")"
      ],
      "execution_count": 73,
      "outputs": []
    },
    {
      "source": [
        "# PraProses\r\n"
      ],
      "cell_type": "markdown",
      "metadata": {
        "id": "MGCBpagrXpl4"
      }
    },
    {
      "cell_type": "markdown",
      "metadata": {
        "id": "4LYBZR6GkYOI"
      },
      "source": [
        "`Ini kalian bisa melakukan pra proses menyesuaikan kondisi data.\r\n",
        "Beberapa masalah yang harus diatasi:\r\n",
        "Missing Value\r\n",
        "Extreme Value (outlier)\r\n",
        "Encoding atribut kateogrikal\r\n",
        "Normalisasi\r\n",
        "Feature engineering\r\n",
        "dll.\r\n",
        "Intinya menyesuaikan problem!`"
      ]
    },
    {
      "cell_type": "markdown",
      "metadata": {
        "id": "XA6dvveFJWMP"
      },
      "source": [
        "## Handling Missing Value"
      ]
    },
    {
      "cell_type": "code",
      "metadata": {
        "colab": {
          "base_uri": "https://localhost:8080/"
        },
        "id": "LLD6MI7OJVTz",
        "outputId": "5f925545-fcfe-4fcd-8b59-b4d3737da268"
      },
      "source": [
        "df.mean()"
      ],
      "execution_count": 74,
      "outputs": [
        {
          "output_type": "execute_result",
          "data": {
            "text/plain": [
              "RI       1.518365\n",
              "Na      13.407850\n",
              "Mg       2.684533\n",
              "Al       1.444907\n",
              "Si      72.650935\n",
              "K        0.497056\n",
              "Ca       8.956963\n",
              "Ba       0.175047\n",
              "Fe       0.057009\n",
              "Type     2.780374\n",
              "dtype: float64"
            ]
          },
          "metadata": {},
          "execution_count": 74
        }
      ]
    },
    {
      "cell_type": "code",
      "metadata": {
        "id": "3XrRtlWrJVlU"
      },
      "source": [
        "# https://pandas.pydata.org/pandas-docs/stable/reference/api/pandas.DataFrame.fillna.html\r\n",
        "df.fillna(df.mean(),inplace=True)"
      ],
      "execution_count": 75,
      "outputs": []
    },
    {
      "cell_type": "code",
      "metadata": {
        "colab": {
          "base_uri": "https://localhost:8080/"
        },
        "id": "k3oiqTLjKaeJ",
        "outputId": "d99494fb-d86f-410b-db77-3e8bdbeb66d9"
      },
      "source": [
        "df.isna().sum()"
      ],
      "execution_count": 76,
      "outputs": [
        {
          "output_type": "execute_result",
          "data": {
            "text/plain": [
              "RI      0\n",
              "Na      0\n",
              "Mg      0\n",
              "Al      0\n",
              "Si      0\n",
              "K       0\n",
              "Ca      0\n",
              "Ba      0\n",
              "Fe      0\n",
              "Type    0\n",
              "dtype: int64"
            ]
          },
          "metadata": {},
          "execution_count": 76
        }
      ]
    },
    {
      "cell_type": "markdown",
      "metadata": {
        "id": "J5szM71NKTvL"
      },
      "source": [
        "## Label Encoder"
      ]
    },
    {
      "cell_type": "code",
      "metadata": {
        "id": "T-jCbnhOZCpR"
      },
      "source": [
        "# SKIP, DAH PKE KODE\r\n",
        "# # label encoder\r\n",
        "# # dictionary buat mappingnya\r\n",
        "# dic = {\"Iris-setosa\":1, \"Iris-versicolor\":2,'Iris-virginica':3}\r\n",
        "\r\n",
        "# #dimapping ke kolom baru \r\n",
        "# df['Target']=df.Species.replace(dic)"
      ],
      "execution_count": 77,
      "outputs": []
    },
    {
      "cell_type": "code",
      "metadata": {
        "colab": {
          "base_uri": "https://localhost:8080/",
          "height": 204
        },
        "id": "xIwyBQMWZpJ9",
        "outputId": "4dda1af2-b1cc-422e-a37d-b1d1e9cbcdea"
      },
      "source": [
        "df.head(5)"
      ],
      "execution_count": 78,
      "outputs": [
        {
          "output_type": "execute_result",
          "data": {
            "text/plain": [
              "        RI     Na    Mg    Al     Si     K    Ca   Ba   Fe  Type\n",
              "0  1.52101  13.64  4.49  1.10  71.78  0.06  8.75  0.0  0.0     1\n",
              "1  1.51761  13.89  3.60  1.36  72.73  0.48  7.83  0.0  0.0     1\n",
              "2  1.51618  13.53  3.55  1.54  72.99  0.39  7.78  0.0  0.0     1\n",
              "3  1.51766  13.21  3.69  1.29  72.61  0.57  8.22  0.0  0.0     1\n",
              "4  1.51742  13.27  3.62  1.24  73.08  0.55  8.07  0.0  0.0     1"
            ],
            "text/html": "<div>\n<style scoped>\n    .dataframe tbody tr th:only-of-type {\n        vertical-align: middle;\n    }\n\n    .dataframe tbody tr th {\n        vertical-align: top;\n    }\n\n    .dataframe thead th {\n        text-align: right;\n    }\n</style>\n<table border=\"1\" class=\"dataframe\">\n  <thead>\n    <tr style=\"text-align: right;\">\n      <th></th>\n      <th>RI</th>\n      <th>Na</th>\n      <th>Mg</th>\n      <th>Al</th>\n      <th>Si</th>\n      <th>K</th>\n      <th>Ca</th>\n      <th>Ba</th>\n      <th>Fe</th>\n      <th>Type</th>\n    </tr>\n  </thead>\n  <tbody>\n    <tr>\n      <th>0</th>\n      <td>1.52101</td>\n      <td>13.64</td>\n      <td>4.49</td>\n      <td>1.10</td>\n      <td>71.78</td>\n      <td>0.06</td>\n      <td>8.75</td>\n      <td>0.0</td>\n      <td>0.0</td>\n      <td>1</td>\n    </tr>\n    <tr>\n      <th>1</th>\n      <td>1.51761</td>\n      <td>13.89</td>\n      <td>3.60</td>\n      <td>1.36</td>\n      <td>72.73</td>\n      <td>0.48</td>\n      <td>7.83</td>\n      <td>0.0</td>\n      <td>0.0</td>\n      <td>1</td>\n    </tr>\n    <tr>\n      <th>2</th>\n      <td>1.51618</td>\n      <td>13.53</td>\n      <td>3.55</td>\n      <td>1.54</td>\n      <td>72.99</td>\n      <td>0.39</td>\n      <td>7.78</td>\n      <td>0.0</td>\n      <td>0.0</td>\n      <td>1</td>\n    </tr>\n    <tr>\n      <th>3</th>\n      <td>1.51766</td>\n      <td>13.21</td>\n      <td>3.69</td>\n      <td>1.29</td>\n      <td>72.61</td>\n      <td>0.57</td>\n      <td>8.22</td>\n      <td>0.0</td>\n      <td>0.0</td>\n      <td>1</td>\n    </tr>\n    <tr>\n      <th>4</th>\n      <td>1.51742</td>\n      <td>13.27</td>\n      <td>3.62</td>\n      <td>1.24</td>\n      <td>73.08</td>\n      <td>0.55</td>\n      <td>8.07</td>\n      <td>0.0</td>\n      <td>0.0</td>\n      <td>1</td>\n    </tr>\n  </tbody>\n</table>\n</div>"
          },
          "metadata": {},
          "execution_count": 78
        }
      ]
    },
    {
      "cell_type": "markdown",
      "metadata": {
        "id": "ILBbHoydZvqH"
      },
      "source": [
        "# Train Test Split\r\n"
      ]
    },
    {
      "cell_type": "code",
      "metadata": {
        "colab": {
          "base_uri": "https://localhost:8080/",
          "height": 111
        },
        "id": "1Pb63vNnZ7M6",
        "outputId": "ae6060df-3b05-4fb4-dae4-d9ee4c13ff0a"
      },
      "source": [
        "# X adalah kolom attribut tanpa kolom target\r\n",
        "X=df.iloc[:, :-1]\r\n",
        "X.head(2)"
      ],
      "execution_count": 79,
      "outputs": [
        {
          "output_type": "execute_result",
          "data": {
            "text/plain": [
              "        RI     Na    Mg    Al     Si     K    Ca   Ba   Fe\n",
              "0  1.52101  13.64  4.49  1.10  71.78  0.06  8.75  0.0  0.0\n",
              "1  1.51761  13.89  3.60  1.36  72.73  0.48  7.83  0.0  0.0"
            ],
            "text/html": "<div>\n<style scoped>\n    .dataframe tbody tr th:only-of-type {\n        vertical-align: middle;\n    }\n\n    .dataframe tbody tr th {\n        vertical-align: top;\n    }\n\n    .dataframe thead th {\n        text-align: right;\n    }\n</style>\n<table border=\"1\" class=\"dataframe\">\n  <thead>\n    <tr style=\"text-align: right;\">\n      <th></th>\n      <th>RI</th>\n      <th>Na</th>\n      <th>Mg</th>\n      <th>Al</th>\n      <th>Si</th>\n      <th>K</th>\n      <th>Ca</th>\n      <th>Ba</th>\n      <th>Fe</th>\n    </tr>\n  </thead>\n  <tbody>\n    <tr>\n      <th>0</th>\n      <td>1.52101</td>\n      <td>13.64</td>\n      <td>4.49</td>\n      <td>1.10</td>\n      <td>71.78</td>\n      <td>0.06</td>\n      <td>8.75</td>\n      <td>0.0</td>\n      <td>0.0</td>\n    </tr>\n    <tr>\n      <th>1</th>\n      <td>1.51761</td>\n      <td>13.89</td>\n      <td>3.60</td>\n      <td>1.36</td>\n      <td>72.73</td>\n      <td>0.48</td>\n      <td>7.83</td>\n      <td>0.0</td>\n      <td>0.0</td>\n    </tr>\n  </tbody>\n</table>\n</div>"
          },
          "metadata": {},
          "execution_count": 79
        }
      ]
    },
    {
      "cell_type": "code",
      "metadata": {
        "colab": {
          "base_uri": "https://localhost:8080/"
        },
        "id": "1RqH1DSZZ16R",
        "outputId": "f908b1aa-d4f4-43ed-8818-4d944e4b93d1"
      },
      "source": [
        "# y adalah kolom yang hanya target\r\n",
        "y=df.iloc[:,-1]\r\n",
        "y.head()"
      ],
      "execution_count": 80,
      "outputs": [
        {
          "output_type": "execute_result",
          "data": {
            "text/plain": [
              "0    1\n",
              "1    1\n",
              "2    1\n",
              "3    1\n",
              "4    1\n",
              "Name: Type, dtype: int64"
            ]
          },
          "metadata": {},
          "execution_count": 80
        }
      ]
    },
    {
      "cell_type": "code",
      "metadata": {
        "id": "utastMf4ZxnW"
      },
      "source": [
        "# untuk memisahkan data train dan test -> https://scikit-learn.org/stable/modules/generated/sklearn.model_selection.train_test_split.html\r\n",
        "from sklearn.model_selection import train_test_split\r\n",
        "\r\n",
        "# param stratify : data displit secara stratified -> https://scikit-learn.org/stable/modules/cross_validation.html#stratification\r\n",
        "X_train, X_test, y_train, y_test = train_test_split(X, y, test_size=0.3, random_state=42,stratify=y) "
      ],
      "execution_count": 81,
      "outputs": []
    },
    {
      "cell_type": "markdown",
      "metadata": {
        "id": "kyqcD3SNazE0"
      },
      "source": [
        "# Normalisasi"
      ]
    },
    {
      "cell_type": "code",
      "metadata": {
        "id": "1Qn9I9ura0eB"
      },
      "source": [
        "# untuk mengatasi perbedaan nilai antar kolom -> https://scikit-learn.org/stable/modules/generated/sklearn.preprocessing.StandardScaler.html\r\n",
        "from sklearn.preprocessing import StandardScaler\r\n",
        "\r\n",
        "scaler = StandardScaler()\r\n",
        "X_train_scaled = scaler.fit_transform(X_train) #tanpa target\r\n",
        "X_test_scaled = scaler.transform(X_test)"
      ],
      "execution_count": 82,
      "outputs": []
    },
    {
      "cell_type": "markdown",
      "metadata": {
        "id": "WFnD_eQ1XSSJ"
      },
      "source": [
        "# Evaluation"
      ]
    },
    {
      "cell_type": "code",
      "metadata": {
        "id": "ASr4sM4OVXms"
      },
      "source": [
        "# function untuk melakukan perhitungan seluruh metric evaluasi -> https://scikit-learn.org/stable/modules/model_evaluation.html#classification-metrics\r\n",
        "from sklearn.metrics import make_scorer, accuracy_score, precision_score, recall_score, f1_score\r\n",
        "def get_metrics(true_labels, predicted_labels):\r\n",
        "    acc=np.round(accuracy_score(true_labels, predicted_labels),4)\r\n",
        "    prec=np.round(precision_score(true_labels, predicted_labels,average='weighted'),4)\r\n",
        "    recall=np.round(recall_score(true_labels, predicted_labels,average='weighted'),4)\r\n",
        "    f1=np.round(f1_score(true_labels, predicted_labels,average='weighted'),4)\r\n",
        "    return [acc,prec,recall,f1]"
      ],
      "execution_count": 83,
      "outputs": []
    },
    {
      "cell_type": "markdown",
      "metadata": {
        "id": "ZL5rOhnOavaZ"
      },
      "source": [
        "# Model"
      ]
    },
    {
      "cell_type": "code",
      "metadata": {
        "id": "XiI6-4tFhFNB"
      },
      "source": [
        "kolom=['Model','Acc','Precision','Recall','F1']\r\n",
        "HASIL_AKHIR=pd.DataFrame(columns=kolom)"
      ],
      "execution_count": 84,
      "outputs": []
    },
    {
      "source": [
        "## Random Forest"
      ],
      "cell_type": "markdown",
      "metadata": {
        "id": "_T8A-OthbMTx"
      }
    },
    {
      "source": [
        "### RF Gini"
      ],
      "cell_type": "markdown",
      "metadata": {}
    },
    {
      "cell_type": "code",
      "metadata": {
        "colab": {
          "base_uri": "https://localhost:8080/"
        },
        "id": "SNcIt4SCcDDN",
        "outputId": "c88c4f59-9bc0-4c0f-9b30-2adf7c2e74ab"
      },
      "source": [
        "# fit model Random Forest -> https://scikit-learn.org/stable/modules/generated/sklearn.ensemble.RandomForestClassifier.html\n",
        "from sklearn.ensemble import RandomForestClassifier\n",
        "rf = RandomForestClassifier(random_state=195,criterion='gini')\n",
        "rf.fit(X_train, y_train)\n",
        "# predict model ke data test\n",
        "y_pred_rf=rf.predict(X_test)\n",
        "# evaluation score untuk model Random Forest\n",
        "\n",
        "hasil=['RF Entropy']+get_metrics(y_test,y_pred_rf)\n",
        "print(hasil)\n",
        "# concat ke dataframe perbandingan score\n",
        "HASIL_AKHIR=pd.concat([HASIL_AKHIR,pd.DataFrame([hasil],columns=kolom)])"
      ],
      "execution_count": 85,
      "outputs": [
        {
          "output_type": "stream",
          "name": "stdout",
          "text": [
            "['RF Entropy', 0.8769, 0.8943, 0.8769, 0.8703]\n"
          ]
        }
      ]
    },
    {
      "source": [
        "### RF Entropy"
      ],
      "cell_type": "markdown",
      "metadata": {}
    },
    {
      "cell_type": "code",
      "execution_count": 86,
      "metadata": {},
      "outputs": [
        {
          "output_type": "stream",
          "name": "stdout",
          "text": [
            "['RF Entropy', 0.8769, 0.8964, 0.8769, 0.8711]\n"
          ]
        }
      ],
      "source": [
        "# fit model Random Forest -> https://scikit-learn.org/stable/modules/generated/sklearn.ensemble.RandomForestClassifier.html\n",
        "from sklearn.ensemble import RandomForestClassifier\n",
        "rf = RandomForestClassifier(random_state=50,criterion='entropy')\n",
        "rf.fit(X_train, y_train)\n",
        "# predict model ke data test\n",
        "y_pred_rf=rf.predict(X_test)\n",
        "# evaluation score untuk model Random Forest\n",
        "hasil = ['RF Entropy']+  get_metrics(y_test,y_pred_rf)\n",
        "print(hasil)\n",
        "# concat ke dataframe perbandingan score\n",
        "HASIL_AKHIR=pd.concat([HASIL_AKHIR,pd.DataFrame([hasil],columns=kolom)])"
      ]
    },
    {
      "cell_type": "markdown",
      "metadata": {
        "id": "lQR91A7AbQop"
      },
      "source": [
        "## XGBoost"
      ]
    },
    {
      "cell_type": "code",
      "metadata": {
        "colab": {
          "base_uri": "https://localhost:8080/"
        },
        "id": "vwj4DSjGcW9A",
        "outputId": "561190c1-a40b-440c-ca3b-5fa324afea12"
      },
      "source": [
        "# run di local -> pip install xgboost\r\n",
        "\r\n",
        "# fit model XGBoost -> https://xgboost.readthedocs.io/en/latest/\r\n",
        "from xgboost import XGBClassifier\r\n",
        "xgb = XGBClassifier()\r\n",
        "xgb.fit(X_train, y_train)"
      ],
      "execution_count": 87,
      "outputs": [
        {
          "output_type": "stream",
          "name": "stdout",
          "text": [
            "[00:42:16] WARNING: C:/Users/Administrator/workspace/xgboost-win64_release_1.3.0/src/learner.cc:1061: Starting in XGBoost 1.3.0, the default evaluation metric used with the objective 'multi:softprob' was changed from 'merror' to 'mlogloss'. Explicitly set eval_metric if you'd like to restore the old behavior.\n"
          ]
        },
        {
          "output_type": "execute_result",
          "data": {
            "text/plain": [
              "XGBClassifier(base_score=0.5, booster='gbtree', colsample_bylevel=1,\n",
              "              colsample_bynode=1, colsample_bytree=1, gamma=0, gpu_id=-1,\n",
              "              importance_type='gain', interaction_constraints='',\n",
              "              learning_rate=0.300000012, max_delta_step=0, max_depth=6,\n",
              "              min_child_weight=1, missing=nan, monotone_constraints='()',\n",
              "              n_estimators=100, n_jobs=12, num_parallel_tree=1,\n",
              "              objective='multi:softprob', random_state=0, reg_alpha=0,\n",
              "              reg_lambda=1, scale_pos_weight=None, subsample=1,\n",
              "              tree_method='exact', validate_parameters=1, verbosity=None)"
            ]
          },
          "metadata": {},
          "execution_count": 87
        }
      ]
    },
    {
      "cell_type": "code",
      "metadata": {
        "id": "hUmDfC1lcW5_"
      },
      "source": [
        "# predict model ke data test\r\n",
        "y_pred_xgb=xgb.predict(X_test)"
      ],
      "execution_count": 88,
      "outputs": []
    },
    {
      "cell_type": "code",
      "metadata": {
        "colab": {
          "base_uri": "https://localhost:8080/"
        },
        "id": "kWsH4lhycW1F",
        "outputId": "09dc7ccc-75a0-4571-c6fa-4747e2c0c410"
      },
      "source": [
        "# evaluation score untuk model XGBoost\r\n",
        "get_metrics(y_test,y_pred_xgb)"
      ],
      "execution_count": 89,
      "outputs": [
        {
          "output_type": "execute_result",
          "data": {
            "text/plain": [
              "[0.8308, 0.8481, 0.8308, 0.8231]"
            ]
          },
          "metadata": {},
          "execution_count": 89
        }
      ]
    },
    {
      "cell_type": "code",
      "metadata": {
        "id": "A3_Oc5D8iev1"
      },
      "source": [
        "hasil=['XGB']+get_metrics(y_test,y_pred_xgb)"
      ],
      "execution_count": 90,
      "outputs": []
    },
    {
      "cell_type": "code",
      "metadata": {
        "id": "RQDU4Dtiiev3"
      },
      "source": [
        "# concat ke dataframe perbandingan score\r\n",
        "HASIL_AKHIR=pd.concat([HASIL_AKHIR,pd.DataFrame([hasil],columns=kolom)])"
      ],
      "execution_count": 91,
      "outputs": []
    },
    {
      "source": [
        "## MLP"
      ],
      "cell_type": "markdown",
      "metadata": {
        "id": "RKVGLTfxbSZF"
      }
    },
    {
      "cell_type": "code",
      "metadata": {
        "colab": {
          "base_uri": "https://localhost:8080/"
        },
        "id": "B-J3eygAau_D",
        "outputId": "541595c2-afbd-4269-fa09-4d48428af0d4"
      },
      "source": [
        "# fit model MLP -> https://scikit-learn.org/stable/modules/generated/sklearn.neural_network.MLPClassifier.html\n",
        "from sklearn.neural_network import MLPClassifier\n",
        "mlp = MLPClassifier(max_iter=1000, random_state=63)\n",
        "mlp.fit(X_train, y_train)\n",
        "# predict model ke data test\n",
        "y_pred_mlp=mlp.predict(X_test)\n",
        "get_metrics(y_test,y_pred_mlp)"
      ],
      "execution_count": 92,
      "outputs": [
        {
          "output_type": "execute_result",
          "data": {
            "text/plain": [
              "[0.7692, 0.7226, 0.7692, 0.7357]"
            ]
          },
          "metadata": {},
          "execution_count": 92
        }
      ]
    },
    {
      "cell_type": "code",
      "execution_count": 93,
      "metadata": {},
      "outputs": [],
      "source": [
        "hasil = ['mlp'] + get_metrics(y_test,y_pred_mlp)\n",
        "# concat ke dataframe perbandingan score\n",
        "HASIL_AKHIR=pd.concat([HASIL_AKHIR,pd.DataFrame([hasil],columns=kolom)])"
      ]
    },
    {
      "source": [
        "## Decision Tree"
      ],
      "cell_type": "markdown",
      "metadata": {
        "id": "HDkZrMZPIAFE"
      }
    },
    {
      "source": [
        "### DT Gini"
      ],
      "cell_type": "markdown",
      "metadata": {}
    },
    {
      "cell_type": "code",
      "metadata": {
        "colab": {
          "base_uri": "https://localhost:8080/"
        },
        "id": "JBCWSNi8ICcV",
        "outputId": "4fe0009a-3a69-4886-f650-7c8b2c390111",
        "tags": []
      },
      "source": [
        "# fit model Decision Tree -> https://scikit-learn.org/stable/modules/generated/sklearn.tree.DecisionTreeClassifier.html\n",
        "from sklearn.tree import DecisionTreeClassifier\n",
        "dt = DecisionTreeClassifier(random_state=34)\n",
        "dt.fit(X_train, y_train)\n",
        "# predict model ke data test\n",
        "y_pred_dt=dt.predict(X_test)\n",
        "# evaluation score untuk model Decision Tree\n",
        "get_metrics(y_test,y_pred_dt)\n",
        "\n",
        "hasil=['DT Gini'] + get_metrics(y_test,y_pred_dt)\n",
        "\n",
        "HASIL_AKHIR=pd.concat([HASIL_AKHIR,pd.DataFrame([hasil],columns=kolom)])"
      ],
      "execution_count": 94,
      "outputs": []
    },
    {
      "source": [
        "### DT Entropy"
      ],
      "cell_type": "markdown",
      "metadata": {}
    },
    {
      "cell_type": "code",
      "execution_count": 95,
      "metadata": {},
      "outputs": [],
      "source": [
        "from sklearn.tree import DecisionTreeClassifier\n",
        "\n",
        "dt = DecisionTreeClassifier(random_state=73,criterion='entropy')\n",
        "dt.fit(X_train, y_train)\n",
        "# predict model ke data test\n",
        "y_pred_dt=dt.predict(X_test)\n",
        "# evaluation score untuk model Decision Tree\n",
        "get_metrics(y_test,y_pred_dt)\n",
        "\n",
        "hasil = ['DT entropy'] + get_metrics(y_test,y_pred_dt)\n",
        "HASIL_AKHIR=pd.concat([HASIL_AKHIR,pd.DataFrame([hasil],columns=kolom)])"
      ]
    },
    {
      "source": [
        "## Hasil Akhir"
      ],
      "cell_type": "markdown",
      "metadata": {
        "id": "2rQfGeVLktBa"
      }
    },
    {
      "cell_type": "code",
      "metadata": {
        "colab": {
          "base_uri": "https://localhost:8080/",
          "height": 289
        },
        "id": "ONG5zLfGikPG",
        "outputId": "2388affc-9830-4991-c513-dbf6c7292ca0"
      },
      "source": [
        "# dataframe perbandingan model\n",
        "from IPython.display import display \n",
        "print(\"Feinard - 05111840000081 - KELAS KK E\")\n",
        "print(\"R. Dafa Berlian Denmar - 05111840000149 - KELAS KK E\")\n",
        "display(HASIL_AKHIR)\n",
        "print(\"Hasil terbaik didapatkan dari model dengan XGB dan RF karena memiliki akurasi, presisi, recall, dan skor F1 tertinggi diantara semua model\")"
      ],
      "execution_count": 96,
      "outputs": [
        {
          "output_type": "stream",
          "name": "stdout",
          "text": [
            "Feinard - 05111840000081 - KELAS KK E\nR. Dafa Berlian Denmar - 05111840000149 - KELAS KK E\n"
          ]
        },
        {
          "output_type": "display_data",
          "data": {
            "text/plain": "        Model     Acc  Precision  Recall      F1\n0  RF Entropy  0.8769     0.8943  0.8769  0.8703\n0  RF Entropy  0.8769     0.8964  0.8769  0.8711\n0         XGB  0.8308     0.8481  0.8308  0.8231\n0         mlp  0.7692     0.7226  0.7692  0.7357\n0     DT Gini  0.8000     0.8156  0.8000  0.8013\n0  DT entropy  0.8462     0.8593  0.8462  0.8510",
            "text/html": "<div>\n<style scoped>\n    .dataframe tbody tr th:only-of-type {\n        vertical-align: middle;\n    }\n\n    .dataframe tbody tr th {\n        vertical-align: top;\n    }\n\n    .dataframe thead th {\n        text-align: right;\n    }\n</style>\n<table border=\"1\" class=\"dataframe\">\n  <thead>\n    <tr style=\"text-align: right;\">\n      <th></th>\n      <th>Model</th>\n      <th>Acc</th>\n      <th>Precision</th>\n      <th>Recall</th>\n      <th>F1</th>\n    </tr>\n  </thead>\n  <tbody>\n    <tr>\n      <th>0</th>\n      <td>RF Entropy</td>\n      <td>0.8769</td>\n      <td>0.8943</td>\n      <td>0.8769</td>\n      <td>0.8703</td>\n    </tr>\n    <tr>\n      <th>0</th>\n      <td>RF Entropy</td>\n      <td>0.8769</td>\n      <td>0.8964</td>\n      <td>0.8769</td>\n      <td>0.8711</td>\n    </tr>\n    <tr>\n      <th>0</th>\n      <td>XGB</td>\n      <td>0.8308</td>\n      <td>0.8481</td>\n      <td>0.8308</td>\n      <td>0.8231</td>\n    </tr>\n    <tr>\n      <th>0</th>\n      <td>mlp</td>\n      <td>0.7692</td>\n      <td>0.7226</td>\n      <td>0.7692</td>\n      <td>0.7357</td>\n    </tr>\n    <tr>\n      <th>0</th>\n      <td>DT Gini</td>\n      <td>0.8000</td>\n      <td>0.8156</td>\n      <td>0.8000</td>\n      <td>0.8013</td>\n    </tr>\n    <tr>\n      <th>0</th>\n      <td>DT entropy</td>\n      <td>0.8462</td>\n      <td>0.8593</td>\n      <td>0.8462</td>\n      <td>0.8510</td>\n    </tr>\n  </tbody>\n</table>\n</div>"
          },
          "metadata": {}
        },
        {
          "output_type": "stream",
          "name": "stdout",
          "text": [
            "Hasil terbaik didapatkan dari model dengan XGB dan RF karena memiliki akurasi, presisi, recall, dan skor F1 tertinggi diantara semua model\n"
          ]
        }
      ]
    },
    {
      "source": [
        "# CrossVal"
      ],
      "cell_type": "markdown",
      "metadata": {
        "id": "t-nBZEwpdTU3"
      }
    },
    {
      "cell_type": "code",
      "metadata": {
        "colab": {
          "base_uri": "https://localhost:8080/"
        },
        "id": "_Fol_z5-dNw1",
        "outputId": "dc5440ed-e551-43cb-8bb5-af8a3c24dab8"
      },
      "source": [
        "# berikut penjelasan link https://scikit-learn.org/stable/modules/cross_validation.html\n",
        "from sklearn.model_selection import cross_validate\n",
        "X_scaled=StandardScaler().fit_transform(X)\n",
        "rf_cv = RandomForestClassifier()\n",
        "cv_results = cross_validate(rf_cv, X_scaled , y, cv=5)\n",
        "cv_results"
      ],
      "execution_count": 97,
      "outputs": [
        {
          "output_type": "execute_result",
          "data": {
            "text/plain": [
              "{'fit_time': array([0.2892344 , 0.28623629, 0.26375175, 0.28324103, 0.28326941]),\n",
              " 'score_time': array([0.01495123, 0.0129621 , 0.01591611, 0.01496315, 0.01894927]),\n",
              " 'test_score': array([0.69767442, 0.69767442, 0.6744186 , 0.60465116, 0.71428571])}"
            ]
          },
          "metadata": {},
          "execution_count": 97
        }
      ]
    },
    {
      "cell_type": "code",
      "metadata": {
        "colab": {
          "base_uri": "https://localhost:8080/"
        },
        "id": "rn0M2j4Fd1lz",
        "outputId": "cdd521a0-589b-4890-b889-8729afc49c52"
      },
      "source": [
        "cv_results['test_score'].mean()"
      ],
      "execution_count": 98,
      "outputs": [
        {
          "output_type": "execute_result",
          "data": {
            "text/plain": [
              "0.6777408637873755"
            ]
          },
          "metadata": {},
          "execution_count": 98
        }
      ]
    },
    {
      "source": [
        "# Grid Search"
      ],
      "cell_type": "markdown",
      "metadata": {
        "id": "dLeKxKLTe9Mn"
      }
    },
    {
      "cell_type": "code",
      "metadata": {
        "id": "TvDlNjosfGY-"
      },
      "source": [
        "###### berikut penjelasan link https://scikit-learn.org/stable/modules/generated/sklearn.model_selection.GridSearchCV.html\n",
        "import sklearn.model_selection as model_selection\n",
        "from sklearn.model_selection import GridSearchCV\n",
        "from sklearn.neural_network import MLPClassifier\n",
        "from sklearn.ensemble import RandomForestClassifier"
      ],
      "execution_count": 99,
      "outputs": []
    },
    {
      "source": [
        "### Grid Search Random Forest"
      ],
      "cell_type": "markdown",
      "metadata": {}
    },
    {
      "source": [
        "# parameter yang ingin diujicoba\n",
        "param_grid = {\n",
        "    'n_estimators': [10, 100, 200, 300],\n",
        "    'random_state': [0, 42, 21, 195, 214, 77, 50],\n",
        "    'criterion': ['gini','entropy'],\n",
        "    'max_features': ['auto','sqrt'],\n",
        "}"
      ],
      "cell_type": "code",
      "metadata": {
        "id": "-GnrftTreyGZ"
      },
      "execution_count": 144,
      "outputs": []
    },
    {
      "cell_type": "code",
      "execution_count": 145,
      "metadata": {},
      "outputs": [],
      "source": [
        "# inisiasi model\n",
        "clf = RandomForestClassifier()\n",
        "grid_search = GridSearchCV(clf, param_grid ,cv=2)"
      ]
    },
    {
      "cell_type": "code",
      "execution_count": 147,
      "metadata": {},
      "outputs": [
        {
          "output_type": "execute_result",
          "data": {
            "text/plain": [
              "GridSearchCV(cv=2, estimator=RandomForestClassifier(),\n",
              "             param_grid={'criterion': ['gini', 'entropy'],\n",
              "                         'max_features': ['auto', 'sqrt'],\n",
              "                         'n_estimators': [10, 100, 200, 300],\n",
              "                         'random_state': [0, 42, 21, 195, 214, 77, 50]})"
            ]
          },
          "metadata": {},
          "execution_count": 147
        }
      ],
      "source": [
        "# melakukan fit gridsearch\n",
        "grid_search.fit(X_train, y_train)"
      ]
    },
    {
      "cell_type": "code",
      "execution_count": 103,
      "metadata": {},
      "outputs": [
        {
          "output_type": "execute_result",
          "data": {
            "text/plain": [
              "{'criterion': 'entropy',\n",
              " 'max_features': 'auto',\n",
              " 'n_estimators': 200,\n",
              " 'random_state': 77}"
            ]
          },
          "metadata": {},
          "execution_count": 103
        }
      ],
      "source": [
        "# parameter grid search terbaik\n",
        "grid_search.best_params_"
      ]
    },
    {
      "cell_type": "code",
      "execution_count": 104,
      "metadata": {},
      "outputs": [
        {
          "output_type": "execute_result",
          "data": {
            "text/plain": [
              "0.7518918918918919"
            ]
          },
          "metadata": {},
          "execution_count": 104
        }
      ],
      "source": [
        "grid_search.best_score_"
      ]
    },
    {
      "cell_type": "code",
      "execution_count": 105,
      "metadata": {},
      "outputs": [
        {
          "output_type": "stream",
          "name": "stdout",
          "text": [
            "['RF Grid Search', 0.8154, 0.8308, 0.8154, 0.8083]\n"
          ]
        }
      ],
      "source": [
        "rf = grid_search.best_estimator_\n",
        "rf.fit(X_train, y_train)\n",
        "# predict model ke data test\n",
        "y_pred_rf=rf.predict(X_test)\n",
        "# evaluation score untuk model Random Forest\n",
        "\n",
        "hasil=['RF Grid Search']+get_metrics(y_test,y_pred_rf)\n",
        "print(hasil)\n",
        "# concat ke dataframe perbandingan score\n",
        "HASIL_AKHIR=pd.concat([HASIL_AKHIR,pd.DataFrame([hasil],columns=kolom)])"
      ]
    },
    {
      "source": [
        "### Grid Search DecisionTree"
      ],
      "cell_type": "markdown",
      "metadata": {}
    },
    {
      "cell_type": "code",
      "execution_count": 126,
      "metadata": {},
      "outputs": [],
      "source": [
        "# parameter yang ingin diujicoba\n",
        "param_grid = {\n",
        "    'splitter': ['best','random'],\n",
        "    'random_state': [0, 21, 42, 34, 73, 77, 50, 195, 214, 63],\n",
        "    'criterion': ['gini','entropy'],\n",
        "    'max_depth': [100,500,1000]\n",
        "}"
      ]
    },
    {
      "cell_type": "code",
      "execution_count": 127,
      "metadata": {},
      "outputs": [],
      "source": [
        "# inisiasi model\n",
        "clf = DecisionTreeClassifier()\n",
        "grid_search = GridSearchCV(clf, param_grid ,cv=5)"
      ]
    },
    {
      "cell_type": "code",
      "execution_count": 129,
      "metadata": {},
      "outputs": [
        {
          "output_type": "execute_result",
          "data": {
            "text/plain": [
              "GridSearchCV(cv=5, estimator=DecisionTreeClassifier(),\n",
              "             param_grid={'criterion': ['gini', 'entropy'],\n",
              "                         'max_depth': [100, 500, 1000],\n",
              "                         'random_state': [0, 21, 42, 34, 73, 77, 50, 195, 214,\n",
              "                                          63],\n",
              "                         'splitter': ['best', 'random']})"
            ]
          },
          "metadata": {},
          "execution_count": 129
        }
      ],
      "source": [
        "# melakukan fit gridsearch\n",
        "grid_search.fit(X_train, y_train)"
      ]
    },
    {
      "cell_type": "code",
      "execution_count": 131,
      "metadata": {},
      "outputs": [
        {
          "output_type": "execute_result",
          "data": {
            "text/plain": [
              "{'criterion': 'gini', 'max_depth': 100, 'random_state': 34, 'splitter': 'best'}"
            ]
          },
          "metadata": {},
          "execution_count": 131
        }
      ],
      "source": [
        "# parameter grid search terbaik\n",
        "grid_search.best_params_"
      ]
    },
    {
      "cell_type": "code",
      "execution_count": 132,
      "metadata": {},
      "outputs": [
        {
          "output_type": "execute_result",
          "data": {
            "text/plain": [
              "0.7050574712643678"
            ]
          },
          "metadata": {},
          "execution_count": 132
        }
      ],
      "source": [
        "grid_search.best_score_"
      ]
    },
    {
      "cell_type": "code",
      "execution_count": 133,
      "metadata": {},
      "outputs": [
        {
          "output_type": "execute_result",
          "data": {
            "text/plain": [
              "DecisionTreeClassifier(max_depth=100, random_state=34)"
            ]
          },
          "metadata": {},
          "execution_count": 133
        }
      ],
      "source": [
        "grid_search.best_estimator_"
      ]
    },
    {
      "cell_type": "code",
      "execution_count": 140,
      "metadata": {},
      "outputs": [],
      "source": [
        "dt = grid_search.best_estimator_"
      ]
    },
    {
      "cell_type": "code",
      "execution_count": 141,
      "metadata": {},
      "outputs": [
        {
          "output_type": "stream",
          "name": "stdout",
          "text": [
            "['DT Grid Search', 0.8, 0.8156, 0.8, 0.8013]\n"
          ]
        }
      ],
      "source": [
        "dt.fit(X_train, y_train)\n",
        "# predict model ke data test\n",
        "y_pred_dt=dt.predict(X_test)\n",
        "# evaluation score untuk model Random Forest\n",
        "\n",
        "hasil=['DT Grid Search']+get_metrics(y_test,y_pred_dt)\n",
        "print(hasil)\n",
        "# concat ke dataframe perbandingan score\n",
        "HASIL_AKHIR=pd.concat([HASIL_AKHIR,pd.DataFrame([hasil],columns=kolom)])"
      ]
    },
    {
      "source": [
        "### Grid search MLP"
      ],
      "cell_type": "markdown",
      "metadata": {}
    },
    {
      "cell_type": "code",
      "execution_count": 114,
      "metadata": {},
      "outputs": [],
      "source": [
        "# parameter yang ingin diujicoba\n",
        "param_grid = {\n",
        "    'activation':['identity', 'logistic', 'tanh', 'relu'],\n",
        "    'solver':['lbfgs','sgd','adam'],\n",
        "    'learning_rate':['constant','invscaling','adaptive'],\n",
        "    'max_iter': [100, 200, 500, 1000],\n",
        "}"
      ]
    },
    {
      "cell_type": "code",
      "execution_count": 115,
      "metadata": {},
      "outputs": [],
      "source": [
        "# inisiasi model\n",
        "clf = MLPClassifier()\n",
        "grid_search = GridSearchCV(clf, param_grid ,cv=5)"
      ]
    },
    {
      "cell_type": "code",
      "execution_count": 116,
      "metadata": {
        "tags": []
      },
      "outputs": [
        {
          "output_type": "execute_result",
          "data": {
            "text/plain": [
              "GridSearchCV(cv=5, estimator=MLPClassifier(),\n",
              "             param_grid={'activation': ['identity', 'logistic', 'tanh', 'relu'],\n",
              "                         'learning_rate': ['constant', 'invscaling',\n",
              "                                           'adaptive'],\n",
              "                         'max_iter': [100, 200, 500, 1000],\n",
              "                         'solver': ['lbfgs', 'sgd', 'adam']})"
            ]
          },
          "metadata": {},
          "execution_count": 116
        }
      ],
      "source": [
        "# melakukan fit gridsearch\n",
        "grid_search.fit(X_train, y_train)"
      ]
    },
    {
      "cell_type": "code",
      "execution_count": 117,
      "metadata": {},
      "outputs": [
        {
          "output_type": "execute_result",
          "data": {
            "text/plain": [
              "0.6981609195402297"
            ]
          },
          "metadata": {},
          "execution_count": 117
        }
      ],
      "source": [
        "grid_search.best_score_"
      ]
    },
    {
      "cell_type": "code",
      "execution_count": 118,
      "metadata": {},
      "outputs": [
        {
          "output_type": "execute_result",
          "data": {
            "text/plain": [
              "{'activation': 'logistic',\n",
              " 'learning_rate': 'constant',\n",
              " 'max_iter': 1000,\n",
              " 'solver': 'adam'}"
            ]
          },
          "metadata": {},
          "execution_count": 118
        }
      ],
      "source": [
        "grid_search.best_params_"
      ]
    },
    {
      "cell_type": "code",
      "execution_count": 119,
      "metadata": {},
      "outputs": [
        {
          "output_type": "execute_result",
          "data": {
            "text/plain": [
              "[0.7231, 0.6812, 0.7231, 0.6832]"
            ]
          },
          "metadata": {},
          "execution_count": 119
        }
      ],
      "source": [
        "mlp = grid_search.best_estimator_\n",
        "mlp.fit(X_train, y_train)\n",
        "# predict model ke data test\n",
        "y_pred_mlp=mlp.predict(X_test)\n",
        "get_metrics(y_test,y_pred_mlp)"
      ]
    },
    {
      "cell_type": "code",
      "execution_count": 120,
      "metadata": {},
      "outputs": [
        {
          "output_type": "stream",
          "name": "stdout",
          "text": [
            "['MLP Grid Search', 0.7231, 0.7562, 0.7231, 0.7344]\n"
          ]
        }
      ],
      "source": [
        "hasil=['MLP Grid Search']+get_metrics(y_test,y_pred_dt)\n",
        "print(hasil)\n",
        "# concat ke dataframe perbandingan score\n",
        "HASIL_AKHIR=pd.concat([HASIL_AKHIR,pd.DataFrame([hasil],columns=kolom)])"
      ]
    },
    {
      "cell_type": "code",
      "execution_count": 121,
      "metadata": {},
      "outputs": [],
      "source": [
        "# Hasil menggunakan hyper parameter dan gridsearch"
      ]
    },
    {
      "cell_type": "code",
      "execution_count": 142,
      "metadata": {},
      "outputs": [
        {
          "output_type": "stream",
          "name": "stdout",
          "text": [
            "Feinard - 05111840000081 - KELAS KK E\nR. Dafa Berlian Denmar - 05111840000149 - KELAS KK E\n"
          ]
        },
        {
          "output_type": "display_data",
          "data": {
            "text/plain": "             Model     Acc  Precision  Recall      F1\n0       RF Entropy  0.8769     0.8943  0.8769  0.8703\n0       RF Entropy  0.8769     0.8964  0.8769  0.8711\n0              XGB  0.8308     0.8481  0.8308  0.8231\n0              mlp  0.7692     0.7226  0.7692  0.7357\n0          DT Gini  0.8000     0.8156  0.8000  0.8013\n0       DT entropy  0.8462     0.8593  0.8462  0.8510\n0   RF Grid Search  0.8154     0.8308  0.8154  0.8083\n0   DT Grid Search  0.7231     0.7562  0.7231  0.7344\n0  MLP Grid Search  0.7231     0.7562  0.7231  0.7344\n0   DT Grid Search  0.8000     0.8156  0.8000  0.8013\n0   DT Grid Search  0.8000     0.8156  0.8000  0.8013\n0   DT Grid Search  0.8000     0.8156  0.8000  0.8013\n0   DT Grid Search  0.8000     0.8156  0.8000  0.8013",
            "text/html": "<div>\n<style scoped>\n    .dataframe tbody tr th:only-of-type {\n        vertical-align: middle;\n    }\n\n    .dataframe tbody tr th {\n        vertical-align: top;\n    }\n\n    .dataframe thead th {\n        text-align: right;\n    }\n</style>\n<table border=\"1\" class=\"dataframe\">\n  <thead>\n    <tr style=\"text-align: right;\">\n      <th></th>\n      <th>Model</th>\n      <th>Acc</th>\n      <th>Precision</th>\n      <th>Recall</th>\n      <th>F1</th>\n    </tr>\n  </thead>\n  <tbody>\n    <tr>\n      <th>0</th>\n      <td>RF Entropy</td>\n      <td>0.8769</td>\n      <td>0.8943</td>\n      <td>0.8769</td>\n      <td>0.8703</td>\n    </tr>\n    <tr>\n      <th>0</th>\n      <td>RF Entropy</td>\n      <td>0.8769</td>\n      <td>0.8964</td>\n      <td>0.8769</td>\n      <td>0.8711</td>\n    </tr>\n    <tr>\n      <th>0</th>\n      <td>XGB</td>\n      <td>0.8308</td>\n      <td>0.8481</td>\n      <td>0.8308</td>\n      <td>0.8231</td>\n    </tr>\n    <tr>\n      <th>0</th>\n      <td>mlp</td>\n      <td>0.7692</td>\n      <td>0.7226</td>\n      <td>0.7692</td>\n      <td>0.7357</td>\n    </tr>\n    <tr>\n      <th>0</th>\n      <td>DT Gini</td>\n      <td>0.8000</td>\n      <td>0.8156</td>\n      <td>0.8000</td>\n      <td>0.8013</td>\n    </tr>\n    <tr>\n      <th>0</th>\n      <td>DT entropy</td>\n      <td>0.8462</td>\n      <td>0.8593</td>\n      <td>0.8462</td>\n      <td>0.8510</td>\n    </tr>\n    <tr>\n      <th>0</th>\n      <td>RF Grid Search</td>\n      <td>0.8154</td>\n      <td>0.8308</td>\n      <td>0.8154</td>\n      <td>0.8083</td>\n    </tr>\n    <tr>\n      <th>0</th>\n      <td>DT Grid Search</td>\n      <td>0.7231</td>\n      <td>0.7562</td>\n      <td>0.7231</td>\n      <td>0.7344</td>\n    </tr>\n    <tr>\n      <th>0</th>\n      <td>MLP Grid Search</td>\n      <td>0.7231</td>\n      <td>0.7562</td>\n      <td>0.7231</td>\n      <td>0.7344</td>\n    </tr>\n    <tr>\n      <th>0</th>\n      <td>DT Grid Search</td>\n      <td>0.8000</td>\n      <td>0.8156</td>\n      <td>0.8000</td>\n      <td>0.8013</td>\n    </tr>\n    <tr>\n      <th>0</th>\n      <td>DT Grid Search</td>\n      <td>0.8000</td>\n      <td>0.8156</td>\n      <td>0.8000</td>\n      <td>0.8013</td>\n    </tr>\n    <tr>\n      <th>0</th>\n      <td>DT Grid Search</td>\n      <td>0.8000</td>\n      <td>0.8156</td>\n      <td>0.8000</td>\n      <td>0.8013</td>\n    </tr>\n    <tr>\n      <th>0</th>\n      <td>DT Grid Search</td>\n      <td>0.8000</td>\n      <td>0.8156</td>\n      <td>0.8000</td>\n      <td>0.8013</td>\n    </tr>\n  </tbody>\n</table>\n</div>"
          },
          "metadata": {}
        },
        {
          "output_type": "stream",
          "name": "stdout",
          "text": [
            "Hasil terbaik didapatkan dari model dengan XGB dan RF karena memiliki akurasi, presisi, recall, dan skor F1 tertinggi diantara semua model\n"
          ]
        }
      ],
      "source": [
        "# dataframe perbandingan model\n",
        "from IPython.display import display \n",
        "print(\"Feinard - 05111840000081 - KELAS KK E\")\n",
        "print(\"R. Dafa Berlian Denmar - 05111840000149 - KELAS KK E\")\n",
        "display(HASIL_AKHIR)\n",
        "print(\"Hasil terbaik didapatkan dari model dengan XGB dan RF karena memiliki akurasi, presisi, recall, dan skor F1 tertinggi diantara semua model\")"
      ]
    }
  ]
}